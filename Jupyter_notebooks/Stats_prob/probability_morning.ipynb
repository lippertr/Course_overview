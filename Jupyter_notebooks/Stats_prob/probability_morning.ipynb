{
 "cells": [
  {
   "cell_type": "markdown",
   "metadata": {},
   "source": [
    "# Probability\n",
    "\n",
    "This lecture borrows from Adam Richards, Ryan Henning, Tammy Lee, Lee Murray, Scott Schwartz, Matthew Drury, and other Galvanize folks.\n",
    "\n",
    "## Why Learn Probability?\n",
    "\n",
    "Mason and Wiggins in their article [\"A Taxonomy of Data Science\"](http://www.dataists.com/2010/09/a-taxonomy-of-data-science/) describe what Data Scientists do by identifying and describing 5 steps, named _OSEMN_:\n",
    "1. Obtain Data\n",
    "2. Scrub Data\n",
    "3. Explore Data\n",
    "4. Model Data\n",
    "5. iNterpret Data\n",
    "\n",
    "For #3, #4, and #5 above, you'll need your Probability, Statistic, and/or Machine Learning skills ready for action. Starting with data, we may want to answer some questions like:\n",
    " - How well does the data match some assumed (null) distribution [hypothesis testing]?\n",
    " - If it doesn't match well, can we estimate the parameters to approximate it [point estimate]?\n",
    " - How accurate are the parameter estimates [interval estimates]?\n",
    " - Can we model the underlying distribution [function estimates or approximation or machine learning]?\n",
    " \n",
    "The above questions are obviously pertinent to data science, but even if you take more of the ML approach, you cannot escape the topics of probability and statistics:\n",
    "1. Knowing it is a right of passage.\n",
    "2. Most ML algorithms have (at least some) basis in probability/statistics. The best ML folks know deeply how each model works.\n",
    "\n",
    "Today's topic is _probability_. We will start with __Basic Theory__ (morning) then move on to the __Major Probability Distributions__ and applications therein (afternoon).\n",
    "\n",
    "Specifically, we will cover:\n",
    "\n",
    "**Morning**:\n",
    "* Review Formal Logic, and discuss why it doesn't quite give us what we need.\n",
    "* Introduce Probability, Random Variables, and Sample Spaces.\n",
    "* Review Set Notations and Set Operations.\n",
    "* Discuss Probability Notation and The Basic Laws of Probability.\n",
    "* Introduce Combinatorics, and why it's useful.\n",
    "* Define Permutations and Combinations.\n",
    "* Practice with 5 probability questions.\n",
    "* Introduce expected value, variance, covariance, and correlation.\n",
    "* Discuss why correlation is not causation! Reference xkcd and Anscombe's Quartet."
   ]
  },
  {
   "cell_type": "markdown",
   "metadata": {},
   "source": [
    "## Basic Theory"
   ]
  },
  {
   "cell_type": "markdown",
   "metadata": {},
   "source": [
    "### Logic Symbology\n",
    "\n",
    "| Symbol       | Meaning           |\n",
    "|--------------|-------------------|\n",
    "| $\\vee$       | or                |\n",
    "| $\\wedge$     | and               |\n",
    "| $\\neg$       | not               |\n",
    "| $\\implies$   | implies (if-then) |\n",
    "| $\\iff$       | if and only if    |\n",
    "| $|$          | such that         |\n",
    "| $\\forall$    | for all           |\n",
    "| $\\therefore$ | therefore         |\n",
    "| [more](https://en.wikipedia.org/wiki/List_of_logic_symbols) |  |"
   ]
  },
  {
   "cell_type": "markdown",
   "metadata": {},
   "source": [
    "### Formal Logic\n",
    "\n",
    "Statements are either True or False.\n",
    "\n",
    "$a \\implies b$, means:\n",
    "- If $a$ is True, then $b$ must be True.\n",
    "- If $b$ is False, then $a$ must be False.\n",
    "\n",
    "$a \\wedge b$, means:\n",
    "- (sometimes written $ab$)\n",
    "- $a$ and $b$ are both True.\n",
    "\n",
    "$a \\vee b$, means:\n",
    "- (sometimes written $a+b$)\n",
    "- Either $a$ is True, or $b$ is True, or both are True.\n",
    "\n",
    "$\\neg a$, means:\n",
    "- $a$ is False.\n",
    "\n",
    "... and more.\n",
    "\n",
    "A few extra rules which follow from above:\n",
    "\n",
    "- $aa = a$\n",
    "- $a+a = a$\n",
    "- $ab = ba$\n",
    "- $a + b = b + a$\n",
    "- $a(bc) = (ab)c = abc$\n",
    "- $a + (b + c) = (a + b) + c = a + b + c$\n",
    "- $a(b + c) = ab + ac$\n",
    "- $a + bc = (a + b)(a + c)$\n",
    "\n",
    "And a famous one: DeMorgan's law:\n",
    "- $\\neg (a \\vee b) \\iff \\neg a \\wedge \\neg b$\n",
    "- $\\neg (a \\wedge b) \\iff \\neg a \\vee \\neg b$\n",
    "\n",
    "### Shortcomings of Formal Logic\n",
    "\n",
    "Formal Logic is fun, but it doesn't allow for the inference we want to do. Instead of absolute True/False, we want to reason about the plausibility of propositions.\n",
    "\n",
    "### Instead of Formal Logic\n",
    "\n",
    "We want to capture the _certainty_ of an outcome $x$, which we'll call \"probability\" and write as $P(x)$.\n",
    "\n",
    "$$0 \\le P(x) \\le 1$$\n",
    "\n",
    "Where:\n",
    "- $P(x) = 0 \\iff$ the outcome $x$ is impossible, and\n",
    "- $P(x) = 1 \\iff$ the outcome $x$ is certain.\n",
    "- $P(x) = 0.5 \\iff$ the outcome $x$ will happen half of the time.\n",
    "\n",
    "<br><font color='red'><center>How can we estimate the probability it will rain tomorrow?</center></font>\n",
    "\n",
    "Let $x$ be the event that it rains tomorrow, so $P(x) =$ ?"
   ]
  },
  {
   "cell_type": "markdown",
   "metadata": {},
   "source": [
    "### Sample Space\n",
    "\n",
    "Now that we're talking about outcomes, and the certainty of outcomes, we need to define what are the possible outcomes. The set of all possible outcomes of an event is called the __Sample Space__. (Sometimes you'll see this called the \"support\" or the \"domain\" as well.) A few examples follow:\n",
    "\n",
    "| Event                                       | Sample Space |\n",
    "|---------------------------------------------|--------------|\n",
    "| coin flip                                   | {H, T}       |\n",
    "| Human heights                               | $\\mathbb{R}^+$ |\n",
    "| Number of slices of pizza eaten before 10am | $\\mathbb{N}$   |\n",
    "\n",
    "<br><font color='red'><center>What is the sample space of a 6-sided die?</center></font>\n",
    "\n"
   ]
  },
  {
   "cell_type": "code",
   "execution_count": null,
   "metadata": {
    "collapsed": true
   },
   "outputs": [],
   "source": [
    "# roll of die\n",
    "list(range(1,7))\n",
    "\n",
    "#coin flip\n",
    "['H', 'T']\n",
    "\n",
    "#coin flip\n",
    "['HH', 'HT', 'TH', 'TT']"
   ]
  },
  {
   "cell_type": "markdown",
   "metadata": {},
   "source": [
    "<font color='red'><center>What is the sample space of the next hand in blackjack?<br>(What are the possible outcomes from the player's perspective?)</center></font>\n",
    "\n",
    "You could write a paper about it.  See [this paper](http://www.sciencedirect.com/science/article/pii/S0898122109006543)"
   ]
  },
  {
   "cell_type": "code",
   "execution_count": null,
   "metadata": {
    "collapsed": true
   },
   "outputs": [],
   "source": []
  },
  {
   "cell_type": "markdown",
   "metadata": {},
   "source": [
    "### Set Review\n",
    "\n",
    "Now that we have a _set_ of possible outcomes, let's review the things we can do with _sets_.\n",
    "\n",
    "**Symbols**:\n",
    "\n",
    "| Symbol       | Meaning        |\n",
    "|--------------|----------------|\n",
    "| $\\in$        | in             |\n",
    "| $\\cap$       | intersection   |\n",
    "| $\\cup$       | union          |\n",
    "| $\\emptyset$  | the empty set      |\n",
    "| [more](https://en.wikipedia.org/wiki/Set_notation) | |\n",
    "\n",
    "**Operations**:\n",
    "\n",
    "| Operation                  | Definition                                               |\n",
    "|----------------------------|----------------------------------------------------------|\n",
    "| Union                      | $A\\cup B=\\{x\\ |\\ x \\in A \\vee x \\in B\\}$                 |\n",
    "| Intersection               | $A \\cap B=\\{x\\ |\\ x \\in A \\wedge x \\in B \\}$             |\n",
    "| Difference                 | $A \\setminus B=\\{x\\ |\\ x \\in A \\wedge x \\notin B \\}$     |\n",
    "| Complement                 | $A^C=\\{x\\ |\\ x \\notin A \\}$                              |\n",
    "| Disjoint                   | $A \\cap B=\\emptyset$             |\n",
    "| Partition $\\{A_i\\}$ (of S) |  $\\forall i, j: A_i \\cap A_j=\\emptyset$ <br>$S=\\bigcup\\limits_{i=l}^{N} A_{i}$ |\n",
    "\n",
    "<br><font color='red'><center>What does the next cell print?</center></font>"
   ]
  },
  {
   "cell_type": "code",
   "execution_count": 1,
   "metadata": {},
   "outputs": [
    {
     "name": "stdout",
     "output_type": "stream",
     "text": [
      "{1, 2, 3, 4, 6, 7, 9}\n",
      "{9, 7}\n",
      "{1, 3}\n",
      "{1, 2, 3, 4, 6}\n"
     ]
    }
   ],
   "source": [
    "a = set([1, 3, 7, 9])\n",
    "b = set([2, 4, 6, 7, 9])\n",
    "\n",
    "print(a | b)  # letters in a or b, union\n",
    "print(a & b)  # letters in both a and b, intersection\n",
    "print(a - b)  # letters in a but not in b, difference\n",
    "print(a ^ b)  # letters in a or b but not both\n"
   ]
  },
  {
   "cell_type": "markdown",
   "metadata": {},
   "source": [
    "### Probability Definitions\n",
    "\n",
    "#### Random Variable\n",
    "\n",
    "Ryan's definition: \"The outcome of an unrealized event.\" (Your milage may vary.) Or, \"A function which generates outcomes with a fixed, internal probability of each outcome.\"\n",
    "\n",
    "Random variables are hard to define...\n",
    "\n",
    "<font color='red'><center>How would _you_ define a random variable?</center></font>\n",
    "\n",
    "We write random variables as capital letters, which is somewhat confusion because we also tend to write sets as capital letters. We can rest (a little) easy knowing that a random variable has within it a set of possible outcomes; in fact, much of the notation used for probability treats the random variable _like a set_. So, it's all cool.\n",
    "\n",
    "So, the random variable is written as a capital letter, cool. We write _specific outcomes_ as lowercase letters. That leads to the following notation:\n",
    "\n",
    "$$P(X=x) = p$$\n",
    "\n",
    "which we interpret as the probability of the random variable $X$ being realized as the _specific_ outcome $x$ is $p$.\n",
    "\n",
    "#### Shorthand Notations\n",
    "\n",
    "When reasoning about probability, we often only write the random variable and leave it implied that we reference an unnamed, unspecific outcome.\n",
    "\n",
    "$$P(A) = P(A=a)$$\n",
    "\n",
    "Both notations above are unspecific about the outcome in question, but the former leaves the outcome name omitted.\n",
    "\n",
    "Furthermore, we often omit the _and_ operator. All below are equivalent in meaning:\n",
    "\n",
    "$$P(AB) = P(A,B) = P(A \\cap B) = P(A=a \\wedge B=b)$$\n",
    "\n",
    "Similarly, we often write the _or_ operator with an `addition` symbol. All below are equivalent in meaning:\n",
    "\n",
    "$$P(A+B) = P(A \\cup B) = P(A=a \\vee B=b)$$"
   ]
  },
  {
   "cell_type": "markdown",
   "metadata": {},
   "source": [
    "### Laws of Probability\n",
    "\n",
    "#### Conditional Probability\n",
    "\n",
    "$$P(A|B)$$\n",
    "\n",
    "We interpret this notation as the probability over the random variable $A$ given that we know the outcome of the random variable $B$. More concretely we can write:\n",
    "\n",
    "$$P(A=a | B=b) = p$$\n",
    "\n",
    "to say _specifically_ the probability of an outcome $a$ given a _specific_ outcome $b$ is $p$.\n",
    "\n",
    "The following is always true:\n",
    "\n",
    "$$P(AB) = P(A) P(B|A)$$\n",
    "\n",
    "$$P(AB) = P(B) P(A|B)$$\n",
    "\n",
    "<br><font color='red'><center>Define conditional probability in your own words.  And then answer:  Is P(A) ever equal to P(A|B)?  When?</center></font>\n",
    "\n",
    "#### Chain Rule\n",
    "\n",
    "If you apply the conditional probability rule over-and-over, you get the chain rule:\n",
    "\n",
    "$$\n",
    "\\begin{align*}\n",
    "P(A, B, C) & = P(A, B) & * P(C | A, B) \\\\\n",
    " & = P(A) * P(B|A) & * P(C | A, B)\n",
    "\\end{align*}$$\n",
    "\n",
    "Or more generically:\n",
    "\n",
    "$$P(X_1, X_2, \\dots, X_n) = \\prod_{i=1}^n P(X_i|X_1, \\dots, X_{i-1})$$\n",
    "\n",
    "<br><font color='red'><center>Use the chain rule to answer this question:\n",
    "\n",
    "In a factory there are 100 units of a certain product, 5 of which are defective. We pick three units from the 100 units at random. What is the probability that none of them are defective?</center></font>\n",
    "\n",
    "#### Bayes' Rule\n",
    "\n",
    "The axioms above lead to Bayes' Rule:\n",
    "\n",
    "$$P(A | B) = \\dfrac{P(B | A) P(A)}{P(B)}$$\n",
    "\n",
    "\n",
    "#### Law of Total Probability (LoTP)\n",
    "\n",
    "Let $S$ be the support of the (discrete) random variable $B$, then:\n",
    "\n",
    "$$1 = \\sum_{s \\in S} P(B=s)$$\n",
    "\n",
    "Similarly,\n",
    "\n",
    "$$1 = P(B=s) + P(B \\ne s)$$\n",
    "\n",
    "Finally, the **Law of Total Probability** states that:\n",
    "\n",
    "$$P(A) = \\sum_{s \\in S} P(A \\cap B=s)$$\n",
    "\n",
    "$$P(A) = \\sum_{s \\in S} P(A | B=s) P(B=s)$$\n",
    "\n",
    "#### A Famous Rule and a Famously Counterintuitive Example\n",
    "\n",
    "Given:\n",
    "\n",
    "|Conditional Events|Probability|\n",
    "| --------- | ----------- |\n",
    "| Probability test positive given doped | .99 |\n",
    "| Probability test positive given clean | .05 |\n",
    "| Prior probability of doped | .005 |  \n",
    "\n",
    "\n",
    "<font color='red'>What is the probability you are doped given you test positive? (use Bayes' Rule and the Law of Total Probability)</font>\n",
    "\n",
    "\n",
    "#### Independence\n",
    "\n",
    "If two random variables $A$ and $B$ are independent, then the following is true:\n",
    "\n",
    "$$P(A|B) = P(A)$$\n",
    "\n",
    "that is, the probability of $A$ is not affected by the outcome of $B$.\n",
    "\n",
    "Independence implies that:\n",
    "\n",
    "$$P(A \\cap B) = P(A) P(B)$$\n",
    "\n",
    "\n",
    "#### Mutual Exclusivity\n",
    "\n",
    "If two events $A$ and $B$ **cannot** occur simultaneously, then they are said to be \"mutually exclusive\" events. This implies that:\n",
    "\n",
    "$$P(A \\cap B) = 0$$\n",
    "\n",
    "$$P(A \\cup B) = P(A) + P(B)$$\n",
    "\n",
    "<br><font color='red'><center>What is the probability your roll a 3 or a 4 on the next roll of a 6-sided die?</center></font>"
   ]
  },
  {
   "cell_type": "markdown",
   "metadata": {},
   "source": [
    "### We can solve for new rules now!\n",
    "\n",
    "#### Short Example:\n",
    "\n",
    "$$\n",
    "\\begin{align*}\n",
    "P(A \\cup B) &= 1 - P(\\neg A \\cap \\neg B) \\\\\n",
    "            &= 1 - P(\\neg A) P(\\neg B | \\neg A)   \\\\\n",
    "            &= 1 - P(\\neg A) [1-P(B|\\neg A)]   \\\\\n",
    "            &= 1 - P(\\neg A) + P(\\neg A) P(B | \\neg A)   \\\\\n",
    "            &= P(A) + P(\\neg A \\cap B)   \\\\\n",
    "            &= P(A) + P(B) P(\\neg A | B)   \\\\\n",
    "            &= P(A) + P(B) [1 - P(A|B)]   \\\\\n",
    "            &= P(A) + P(B) - P(B) P(A|B)   \\\\\n",
    "            &= P(A) + P(B) - P(A \\cap B)   \\\\\n",
    "\\end{align*}\n",
    "$$\n",
    "\n",
    "You can now see why our equation for _Mutual Exclusivity_ hold.\n",
    "\n",
    "There must be a better way to do this. Let's start counting instead of doing so much math.\n",
    "\n",
    "Enter __COMBINATORICS__, the study of counting."
   ]
  },
  {
   "cell_type": "markdown",
   "metadata": {},
   "source": [
    "### Combinatorics\n",
    "\n",
    "(the basics)\n",
    "\n",
    "Combinatorics is the mathematics of ordering, choosing sets, etc. It is useful for counting events in your sample space.\n",
    "\n",
    "#### Factorial\n",
    "\n",
    "$$n!=\\prod\\limits_{i=1}^{n} i$$\n",
    "\n",
    "$$0! = 1$$\n",
    "\n",
    "There are $n!$ unique ways to arrange $n$ objects into a sequence (where order matters).\n",
    "\n",
    "<br><font color='red'><center>How many ways are there to shuffle a deck of cards?</center></font>\n"
   ]
  },
  {
   "cell_type": "code",
   "execution_count": 2,
   "metadata": {
    "collapsed": true
   },
   "outputs": [],
   "source": [
    "def fact(n):\n",
    "    result = 1\n",
    "    for i in xrange(1, n+1):\n",
    "        result *= i\n",
    "    return result"
   ]
  },
  {
   "cell_type": "code",
   "execution_count": 3,
   "metadata": {
    "collapsed": true
   },
   "outputs": [],
   "source": [
    "from functools import reduce\n",
    "\n",
    "def fact(n):\n",
    "    return reduce(lambda x, y: x*y, range(1, n+1))"
   ]
  },
  {
   "cell_type": "code",
   "execution_count": 4,
   "metadata": {},
   "outputs": [
    {
     "data": {
      "text/plain": [
       "80658175170943878571660636856403766975289505440883277824000000000000"
      ]
     },
     "execution_count": 4,
     "metadata": {},
     "output_type": "execute_result"
    }
   ],
   "source": [
    "fact(52)"
   ]
  },
  {
   "cell_type": "code",
   "execution_count": 5,
   "metadata": {},
   "outputs": [
    {
     "data": {
      "text/plain": [
       "'8.065818e+67'"
      ]
     },
     "execution_count": 5,
     "metadata": {},
     "output_type": "execute_result"
    }
   ],
   "source": [
    "'{:e}'.format(fact(52))"
   ]
  },
  {
   "cell_type": "markdown",
   "metadata": {},
   "source": [
    "OR, we can use a built in "
   ]
  },
  {
   "cell_type": "code",
   "execution_count": 6,
   "metadata": {},
   "outputs": [
    {
     "name": "stdout",
     "output_type": "stream",
     "text": [
      "8.065818e+67\n"
     ]
    }
   ],
   "source": [
    "from math import factorial\n",
    "print('{:e}'.format(factorial(52)))"
   ]
  },
  {
   "cell_type": "markdown",
   "metadata": {},
   "source": [
    "#### Permutations\n",
    "\n",
    "$$P(n,k)=\\dfrac{n!}{(n-k)!}$$\n",
    "\n",
    "There are $P(n,k)$ unique ways to arrange $k$ of $n$ objects into a sequence (where order maters).\n",
    "\n",
    "<br><font color='red'><center>How many ways can 10 teams place 1st, 2nd, and 3rd?</center></font>"
   ]
  },
  {
   "cell_type": "code",
   "execution_count": 6,
   "metadata": {
    "collapsed": true
   },
   "outputs": [],
   "source": [
    "def perm(n, k):\n",
    "    return fact(n)/fact(n-k)"
   ]
  },
  {
   "cell_type": "code",
   "execution_count": 7,
   "metadata": {},
   "outputs": [
    {
     "data": {
      "text/plain": [
       "720.0"
      ]
     },
     "execution_count": 7,
     "metadata": {},
     "output_type": "execute_result"
    }
   ],
   "source": [
    "perm(10, 3)"
   ]
  },
  {
   "cell_type": "markdown",
   "metadata": {},
   "source": [
    "#### Combinations\n",
    "\n",
    "$$C(n,k)={{n}\\choose{k}} = {{n!}\\over{(n-k)!k!}}$$\n",
    "\n",
    "There are $C(n,k)$ unique wasy to choose $k$ items from a set of $n$ items (where order doesn't matter).\n",
    "\n",
    "<br><font color='red'><center>How many ways are there to split 16 (indistinguishable) students into groups led by Taryn, Jon, and Adam?</center></font>"
   ]
  },
  {
   "cell_type": "code",
   "execution_count": 8,
   "metadata": {
    "collapsed": true
   },
   "outputs": [],
   "source": [
    "def comb(n,k):\n",
    "    return perm(n,k)/fact(k)"
   ]
  },
  {
   "cell_type": "code",
   "execution_count": 9,
   "metadata": {},
   "outputs": [
    {
     "data": {
      "text/plain": [
       "105.0"
      ]
     },
     "execution_count": 9,
     "metadata": {},
     "output_type": "execute_result"
    }
   ],
   "source": [
    "comb(16-1, 3-1)"
   ]
  },
  {
   "cell_type": "markdown",
   "metadata": {},
   "source": [
    "Note - permutations and combinations exist in itertools, but...."
   ]
  },
  {
   "cell_type": "code",
   "execution_count": 7,
   "metadata": {},
   "outputs": [
    {
     "data": {
      "text/plain": [
       "[(0, 1),\n",
       " (0, 2),\n",
       " (0, 3),\n",
       " (0, 4),\n",
       " (0, 5),\n",
       " (0, 6),\n",
       " (0, 7),\n",
       " (0, 8),\n",
       " (0, 9),\n",
       " (0, 10),\n",
       " (0, 11),\n",
       " (0, 12),\n",
       " (0, 13),\n",
       " (0, 14),\n",
       " (1, 2),\n",
       " (1, 3),\n",
       " (1, 4),\n",
       " (1, 5),\n",
       " (1, 6),\n",
       " (1, 7),\n",
       " (1, 8),\n",
       " (1, 9),\n",
       " (1, 10),\n",
       " (1, 11),\n",
       " (1, 12),\n",
       " (1, 13),\n",
       " (1, 14),\n",
       " (2, 3),\n",
       " (2, 4),\n",
       " (2, 5),\n",
       " (2, 6),\n",
       " (2, 7),\n",
       " (2, 8),\n",
       " (2, 9),\n",
       " (2, 10),\n",
       " (2, 11),\n",
       " (2, 12),\n",
       " (2, 13),\n",
       " (2, 14),\n",
       " (3, 4),\n",
       " (3, 5),\n",
       " (3, 6),\n",
       " (3, 7),\n",
       " (3, 8),\n",
       " (3, 9),\n",
       " (3, 10),\n",
       " (3, 11),\n",
       " (3, 12),\n",
       " (3, 13),\n",
       " (3, 14),\n",
       " (4, 5),\n",
       " (4, 6),\n",
       " (4, 7),\n",
       " (4, 8),\n",
       " (4, 9),\n",
       " (4, 10),\n",
       " (4, 11),\n",
       " (4, 12),\n",
       " (4, 13),\n",
       " (4, 14),\n",
       " (5, 6),\n",
       " (5, 7),\n",
       " (5, 8),\n",
       " (5, 9),\n",
       " (5, 10),\n",
       " (5, 11),\n",
       " (5, 12),\n",
       " (5, 13),\n",
       " (5, 14),\n",
       " (6, 7),\n",
       " (6, 8),\n",
       " (6, 9),\n",
       " (6, 10),\n",
       " (6, 11),\n",
       " (6, 12),\n",
       " (6, 13),\n",
       " (6, 14),\n",
       " (7, 8),\n",
       " (7, 9),\n",
       " (7, 10),\n",
       " (7, 11),\n",
       " (7, 12),\n",
       " (7, 13),\n",
       " (7, 14),\n",
       " (8, 9),\n",
       " (8, 10),\n",
       " (8, 11),\n",
       " (8, 12),\n",
       " (8, 13),\n",
       " (8, 14),\n",
       " (9, 10),\n",
       " (9, 11),\n",
       " (9, 12),\n",
       " (9, 13),\n",
       " (9, 14),\n",
       " (10, 11),\n",
       " (10, 12),\n",
       " (10, 13),\n",
       " (10, 14),\n",
       " (11, 12),\n",
       " (11, 13),\n",
       " (11, 14),\n",
       " (12, 13),\n",
       " (12, 14),\n",
       " (13, 14)]"
      ]
     },
     "execution_count": 7,
     "metadata": {},
     "output_type": "execute_result"
    }
   ],
   "source": [
    "from itertools import permutations, combinations\n",
    "list(combinations(range(15), 2))"
   ]
  },
  {
   "cell_type": "markdown",
   "metadata": {},
   "source": [
    "### Questions\n",
    "\n",
    "#### Uber vs Lyft (well, sort of)\n",
    "\n",
    "2 Uber and 3 Lyft are hailed simultaneously.\n",
    "\n",
    "What's the probability that the 2 Ubers arrive before _any of_ the 3 Lyfts?\n",
    "\n",
    "<font color='red'>Solve it three ways:</font>\n",
    "1. Using the laws of probability.\n",
    "2. Using permutations. (I.e. Consider each car unique.)\n",
    "3. Using combinations. (I.e. Consider the Ubers indistinguishable, and the Lyfts indistinguishable.)\n",
    "\n",
    "You should get the same answer all three ways! (Answer = 1/10)\n",
    "\n",
    "#### A Harder Coin Flipping Question (on your own)\n",
    "\n",
    "* Three coins are in a bag\n",
    "    * One coin is normal and has head and tail (HT)\n",
    "    * The other two are abnormal: one has two heads (HH), the other one two tails (TT)\n",
    "* You draw a coin (don't look at it!) and flip it, getting heads.\n",
    "* What is the probability of getting heads on a second flip?\n",
    "\n",
    "<font color='red'>Solve it two ways:</font>\n",
    "1. Using the laws of probability.\n",
    "2. Using combinatorics.\n",
    "\n",
    "(btw, correct answer is 5/6)\n",
    "\n",
    "(Extra: What happens to the answer if the TT coin doesn't exist?)\n"
   ]
  },
  {
   "cell_type": "markdown",
   "metadata": {},
   "source": [
    "### Expected Value\n",
    "\n",
    "$$E(X) = \\sum_{s \\in S} s * P(X=s)$$\n",
    "\n",
    "It is the possible outcomes weighted by their respective probabilities of occurring.\n",
    "\n",
    "<br><font color='red'><center>How do you define expectation in your own words?</center></font>"
   ]
  },
  {
   "cell_type": "markdown",
   "metadata": {},
   "source": [
    "### Variance\n",
    "\n",
    "It is the expected value of $(X-E(X))^2$.\n",
    "\n",
    "$$Var(X) = \\sum_{s \\in S} (s-E(X))^2 * P(X=s)$$\n",
    "\n",
    "Variance gives the amount of \"spread\" in the possible outcomes.\n",
    "\n",
    "<br><font color='red'><center>How do you define variance in your own words?</center></font>"
   ]
  },
  {
   "cell_type": "markdown",
   "metadata": {},
   "source": [
    "### Covariance and Correlation\n",
    "\n",
    "Covariance is the expected value of $(X - E(X))(Y - E(Y))$.\n",
    "\n",
    "$$Cov(X, Y) = \\dfrac{\\sum_{i = 1}^n (X_i - E(X))(Y_i - E(Y))} {n-1}$$\n",
    "\n",
    "Correlation is covariance normalized by the standard deviations of $X$ and $Y$.\n",
    "\n",
    "$$Corr(X, Y) = \\dfrac{\\sum_{i = 1}^n (X_i - E(X))(Y_i - E(Y))} {\\sqrt{ \\sum_{i=1}^n (X_i - E(X))^2  \\sum_{i=1}^n (Y_i - E(Y))^2 }}$$\n",
    "\n",
    "<br><font color='red'><center>How do you define covariance and correlation in your own words?</center></font>\n",
    "\n",
    "### Correlation Does not Imply Causation\n",
    "\n",
    "![](https://imgs.xkcd.com/comics/correlation.png)\n",
    "\n",
    "![](https://upload.wikimedia.org/wikipedia/commons/d/d4/Correlation_examples2.svg)\n",
    "\n",
    "<br><font color='red'><center>Describe the picture above in your own words?</center></font><br><br><br>"
   ]
  },
  {
   "cell_type": "code",
   "execution_count": null,
   "metadata": {
    "collapsed": true
   },
   "outputs": [],
   "source": [
    "\"\"\"\n",
    "See: https://en.wikipedia.org/wiki/Anscombe%27s_quartet\n",
    "\n",
    "Summary statistics are dangerous and nothing can replace actually plotting the data.\n",
    "\"\"\"\n",
    "\n",
    "import numpy as np\n",
    "from numpy import array, amin, amax\n",
    "import matplotlib.pyplot as plt\n",
    "%matplotlib inline\n",
    "\n",
    "\n",
    "def fit(x):\n",
    "    return 3+0.5*x\n",
    "\n",
    "\n",
    "def anscombe():\n",
    "    x =  array([10, 8, 13, 9, 11, 14, 6, 4, 12, 7, 5])\n",
    "    y1 = array([8.04, 6.95, 7.58, 8.81, 8.33, 9.96, 7.24, 4.26, 10.84, 4.82, 5.68])\n",
    "    y2 = array([9.14, 8.14, 8.74, 8.77, 9.26, 8.10, 6.13, 3.10, 9.13, 7.26, 4.74])\n",
    "    y3 = array([7.46, 6.77, 12.74, 7.11, 7.81, 8.84, 6.08, 5.39, 8.15, 6.42, 5.73])\n",
    "    x4 = array([8,8,8,8,8,8,8,19,8,8,8])\n",
    "    y4 = array([6.58,5.76,7.71,8.84,8.47,7.04,5.25,12.50,5.56,7.91,6.89])\n",
    "\n",
    "    xfit = array( [amin(x), amax(x) ] )\n",
    "\n",
    "    plt.figure(figsize=(12,8))\n",
    "    plt.subplot(221)\n",
    "    plt.plot(x,y1,'ks', xfit, fit(xfit), 'r-', lw=2)\n",
    "    plt.axis([2,20,2,14])\n",
    "    plt.setp(plt.gca(), xticklabels=[], yticks=(4,8,12), xticks=(0,10,20))\n",
    "    plt.text(3,12, 'I', fontsize=20)\n",
    "\n",
    "    plt.subplot(222)\n",
    "    plt.plot(x,y2,'ks', xfit, fit(xfit), 'r-', lw=2)\n",
    "    plt.axis([2,20,2,14])\n",
    "    plt.setp(plt.gca(), xticklabels=[], yticks=(4,8,12), yticklabels=[], xticks=(0,10,20))\n",
    "    plt.text(3,12, 'II', fontsize=20)\n",
    "\n",
    "    plt.subplot(223)\n",
    "    plt.plot(x,y3,'ks', xfit, fit(xfit), 'r-', lw=2)\n",
    "    plt.axis([2,20,2,14])\n",
    "    plt.text(3,12, 'III', fontsize=20)\n",
    "    plt.setp(plt.gca(), yticks=(4,8,12), xticks=(0,10,20))\n",
    "\n",
    "    xfit = array([amin(x4),amax(x4)])\n",
    "\n",
    "    plt.subplot(224)\n",
    "    plt.plot(x4,y4,'ks', xfit, fit(xfit), 'r-', lw=2)\n",
    "    plt.axis([2,20,2,14])\n",
    "    plt.setp(plt.gca(), yticklabels=[], yticks=(4,8,12), xticks=(0,10,20))\n",
    "    plt.text(3,12, 'IV', fontsize=20)\n",
    "\n",
    "    pairs = (x,y1), (x,y2), (x,y3), (x4,y4)\n",
    "    for x,y in pairs:\n",
    "        print ('mean=%1.2f, std=%1.2f, r=%1.2f'%(np.mean(y), np.std(y), np.corrcoef(x,y)[0][1]))\n",
    "\n",
    "anscombe()"
   ]
  },
  {
   "cell_type": "markdown",
   "metadata": {},
   "source": [
    "Overall, problems with only seeing the correlation:\n",
    "\n",
    "1. It only captures linear relationship, not other relationships.\n",
    "2. It doesn't capture slope at all; it only captures linear relationships (minus noise).\n",
    "3. There are many dataset which have the same correlation even though they are way different.\n",
    "\n",
    "You can't replace the power of just plotting the data and looking at it."
   ]
  },
  {
   "cell_type": "markdown",
   "metadata": {
    "collapsed": true
   },
   "source": [
    "### Birthday problem! \n",
    "A common statistics \"parlor trick\" is to survey a room of people and see if anyone shares the same birthday. If there are sufficient people (I'll leave that to you in your morning assignment!), the odds of no one sharing a birthday drop below 50%. Let's take a survey of the class and see if anyone shares a birthday, and calculate the odds"
   ]
  },
  {
   "cell_type": "code",
   "execution_count": null,
   "metadata": {
    "collapsed": true
   },
   "outputs": [],
   "source": [
    "# whiteboard first, come here to calculate"
   ]
  },
  {
   "cell_type": "markdown",
   "metadata": {},
   "source": [
    "**END OF MORNING**\n",
    "\n",
    "<br><br><br><br><br>"
   ]
  }
 ],
 "metadata": {
  "anaconda-cloud": {},
  "kernelspec": {
   "display_name": "Python 3",
   "language": "python",
   "name": "python3"
  },
  "language_info": {
   "codemirror_mode": {
    "name": "ipython",
    "version": 3
   },
   "file_extension": ".py",
   "mimetype": "text/x-python",
   "name": "python",
   "nbconvert_exporter": "python",
   "pygments_lexer": "ipython3",
   "version": "3.6.1"
  }
 },
 "nbformat": 4,
 "nbformat_minor": 2
}
