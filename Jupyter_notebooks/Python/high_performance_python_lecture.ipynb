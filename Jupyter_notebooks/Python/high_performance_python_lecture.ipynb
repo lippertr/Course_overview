{
 "cells": [
  {
   "cell_type": "markdown",
   "metadata": {},
   "source": [
    "# High-Performance Python\n",
    "\n",
    "## Objectives\n",
    "\n",
    "- Differentiate between processes & threads\n",
    "- Provide examples of when to use mutli-processing vs multi-threading\n",
    "- Identify common pitfalls"
   ]
  },
  {
   "cell_type": "markdown",
   "metadata": {},
   "source": [
    "## Terminology\n",
    "\n",
    "**Concurrency** is when two or more tasks can start, run, and complete in overlapping time. \n",
    "    - Does _not_ necessarily mean they’ll ever be running at the same instant. \n",
    "    - Eg. multitasking on a single-core machine.\n",
    "\n",
    "**Parallelism** is when two or more tasks are executed simultaneously.\n",
    "\n",
    "A **thread** is a sequence of instructions within a process. \n",
    "    - It can be thought of as a lightweight process. \n",
    "    - Threads share the same memory space.\n",
    "\n",
    "A **process** is an instance of a program running in a computer which can contain one or more threads. \n",
    "    - Each process has independant memory space."
   ]
  },
  {
   "cell_type": "markdown",
   "metadata": {},
   "source": [
    "## Multi-Processing vs. Multi-Threading\n",
    "\n",
    "**Multi-threading** (also known as concurrency) splits the work between different threads running on the same processor. \n",
    "    - When one thread is blocked the processor works on the tasks for the next one.\n",
    "    - Multi-threading works better if you need to exchange data between threads. \n",
    "**Multi-processing** splits work across processes running on different processors or even different machines.\n",
    "    - Multi-processing works better if the different processes can work heads down without communicating very much."
   ]
  },
  {
   "cell_type": "markdown",
   "metadata": {},
   "source": [
    "## Good To Know Before We Get Too Far\n",
    "- CPython implementation has a Global Interpreter Lock (GIL) which allows only one thread to be active in the interpreter at once. \n",
    "    - This means that threads cannot be used for parallel execution of Python code. \n",
    "    - While parallel CPU computation is not possible, parallel IO operations are possible using threads. \n",
    "    - This is because performing IO operations releases the GIL.\n",
    "\n",
    "- So, what are threads used for in Python?\n",
    "    - In GUI applications to keep the UI thread responsive\n",
    "    - IO tasks (network IO or filesystem IO)\n",
    "\n",
    "- What should threads _not_ be used for in Python?\n",
    "    - Threads should not be used for CPU bound tasks. \n",
    "    - Using threads for CPU bound tasks will actually result in worse performance compared to using a single thread.\n",
    "\n"
   ]
  },
  {
   "cell_type": "markdown",
   "metadata": {},
   "source": [
    "## Pop Quiz\n",
    "\n",
    "<details>\n",
    "<summary>Q: I have to process a very large dataset and run it through a CPU-intensive algorithm. Should I use multi-processing or multi-threading to speed it up?</summary>\n",
    "A: Multi-processing will produce a result faster. This is because it will be able to split the work across different processors or machines.\n",
    "</details>\n",
    "\n",
    "<details>\n",
    "<summary>Q: I have a web scraping application that spends most of its time waiting for web servers to respond. Should I use multi-processing or multi-threading to speed it up?\n",
    "</summary>\n",
    "A: Multi-threading will produce a bigger payoff. This is because it will ensure that the CPU is fully utilized and does not waste time blocked on input.\n",
    "</details>"
   ]
  },
  {
   "cell_type": "markdown",
   "metadata": {},
   "source": [
    "## Analogies\n",
    "\n",
    "Multi-Threading | Multi-Processing\n",
    "---|---\n",
    "Laundromat | Everyone has a washer-dryer\n",
    "Uber or Carpool | Everyone has a car"
   ]
  },
  {
   "cell_type": "markdown",
   "metadata": {},
   "source": [
    "## Multi-Threading: How-To\n",
    "\n",
    "Q: How can I write a multi-threaded program that prints `\"hello\"` in different threads?"
   ]
  },
  {
   "cell_type": "markdown",
   "metadata": {},
   "source": [
    "- Import `threading` and `sleep`"
   ]
  },
  {
   "cell_type": "code",
   "execution_count": 1,
   "metadata": {
    "collapsed": true
   },
   "outputs": [],
   "source": [
    "import threading\n",
    "from time import sleep"
   ]
  },
  {
   "cell_type": "markdown",
   "metadata": {},
   "source": [
    "- Define print function."
   ]
  },
  {
   "cell_type": "code",
   "execution_count": 2,
   "metadata": {
    "collapsed": true
   },
   "outputs": [],
   "source": [
    "def print_with_delay(d, x):\n",
    "    sleep(d)\n",
    "    print (x)"
   ]
  },
  {
   "cell_type": "markdown",
   "metadata": {},
   "source": [
    "- Create threads for printing."
   ]
  },
  {
   "cell_type": "code",
   "execution_count": 6,
   "metadata": {
    "collapsed": true
   },
   "outputs": [],
   "source": [
    "t1 = threading.Thread(target = lambda: print_with_delay(1, 'hello with delay 1'))\n",
    "t2 = threading.Thread(target = lambda: print_with_delay(2, 'hello with delay 2'))\n",
    "t3 = threading.Thread(target = lambda: print_with_delay(2, 'hello with delay 3'))"
   ]
  },
  {
   "cell_type": "markdown",
   "metadata": {},
   "source": [
    "- Start the threads."
   ]
  },
  {
   "cell_type": "code",
   "execution_count": 7,
   "metadata": {},
   "outputs": [
    {
     "name": "stdout",
     "output_type": "stream",
     "text": [
      "hello with delay 1\n",
      "hello with delay 2\n",
      "hello with delay 3\n"
     ]
    }
   ],
   "source": [
    "t1.start()\n",
    "t2.start()\n",
    "t3.start()"
   ]
  },
  {
   "cell_type": "markdown",
   "metadata": {},
   "source": [
    "- Wait for threads to finish."
   ]
  },
  {
   "cell_type": "code",
   "execution_count": 5,
   "metadata": {},
   "outputs": [
    {
     "name": "stdout",
     "output_type": "stream",
     "text": [
      "hello with delay 1\n",
      "hello with delay 2\n",
      "hello with delay 3\n"
     ]
    }
   ],
   "source": [
    "t1.join()\n",
    "t2.join()\n",
    "t3.join()"
   ]
  },
  {
   "cell_type": "markdown",
   "metadata": {},
   "source": [
    "## Multi-Processing: How-To\n",
    "\n",
    "Q: Calculate the word count of strings using multi-processing.\n",
    "\n",
    "- Import `Pool`"
   ]
  },
  {
   "cell_type": "code",
   "execution_count": 8,
   "metadata": {
    "collapsed": true
   },
   "outputs": [],
   "source": [
    "from multiprocessing import Pool"
   ]
  },
  {
   "cell_type": "markdown",
   "metadata": {},
   "source": [
    "- Define how to count words in a string."
   ]
  },
  {
   "cell_type": "code",
   "execution_count": 14,
   "metadata": {
    "collapsed": true
   },
   "outputs": [],
   "source": [
    "def word_count(string):\n",
    "    return len(string.split())"
   ]
  },
  {
   "cell_type": "markdown",
   "metadata": {},
   "source": [
    "- Define counting words sequentially."
   ]
  },
  {
   "cell_type": "code",
   "execution_count": 15,
   "metadata": {
    "collapsed": true
   },
   "outputs": [],
   "source": [
    "def sequential_word_count(strings):\n",
    "    return sum([word_count(string) for string in strings])"
   ]
  },
  {
   "cell_type": "markdown",
   "metadata": {},
   "source": [
    "- Define counting words in parallel."
   ]
  },
  {
   "cell_type": "code",
   "execution_count": 16,
   "metadata": {
    "collapsed": true
   },
   "outputs": [],
   "source": [
    "def parallel_word_count(strings):\n",
    "    pool = Pool(processes = 4)\n",
    "    results = pool.map(word_count, strings)\n",
    "    return sum(results)"
   ]
  },
  {
   "cell_type": "markdown",
   "metadata": {},
   "source": [
    "- Aside about map:"
   ]
  },
  {
   "cell_type": "code",
   "execution_count": 17,
   "metadata": {},
   "outputs": [
    {
     "name": "stdout",
     "output_type": "stream",
     "text": [
      "(0, 1, 4, 9, 16, 25, 36, 49, 64, 81)\n"
     ]
    }
   ],
   "source": [
    "print (tuple(map(lambda x: x**2, range(10))))"
   ]
  },
  {
   "cell_type": "markdown",
   "metadata": {},
   "source": [
    "### Head-to-Head Comparisson"
   ]
  },
  {
   "cell_type": "markdown",
   "metadata": {},
   "source": [
    "- Create `word_count` version that saves result in thread object."
   ]
  },
  {
   "cell_type": "code",
   "execution_count": 18,
   "metadata": {
    "collapsed": true
   },
   "outputs": [],
   "source": [
    "def thread_word_count(string):\n",
    "    self = threading.current_thread()\n",
    "    self.result = word_count(string)"
   ]
  },
  {
   "cell_type": "markdown",
   "metadata": {},
   "source": [
    "- Define counting words using `Thread`."
   ]
  },
  {
   "cell_type": "code",
   "execution_count": 43,
   "metadata": {
    "collapsed": true
   },
   "outputs": [],
   "source": [
    "def concurrent_word_count(strings):\n",
    "    threads = []\n",
    "    \n",
    "    for string in strings:\n",
    "        thread = threading.Thread(\n",
    "            target = thread_word_count,\n",
    "            args = (string,))\n",
    "        threads.append(thread)\n",
    "        \n",
    "    for thread in threads:\n",
    "        thread.start()\n",
    "        \n",
    "    for thread in threads:\n",
    "        thread.join()\n",
    "        \n",
    "    results = []\n",
    "    for thread in threads: results.append(thread.result)\n",
    "    return sum(results)"
   ]
  },
  {
   "cell_type": "markdown",
   "metadata": {},
   "source": [
    "Q: Time all 3 versions.\n",
    "\n",
    "- Create a sample input."
   ]
  },
  {
   "cell_type": "code",
   "execution_count": 23,
   "metadata": {
    "collapsed": true
   },
   "outputs": [],
   "source": [
    "strings = [\n",
    "    'hello world',\n",
    "    'this is another line',\n",
    "    'this is yet another line'] * 100000"
   ]
  },
  {
   "cell_type": "markdown",
   "metadata": {},
   "source": [
    "- Time each one"
   ]
  },
  {
   "cell_type": "code",
   "execution_count": 24,
   "metadata": {},
   "outputs": [
    {
     "name": "stdout",
     "output_type": "stream",
     "text": [
      "1100000\n",
      "CPU times: user 194 ms, sys: 5.18 ms, total: 200 ms\n",
      "Wall time: 201 ms\n"
     ]
    }
   ],
   "source": [
    "%time print (sequential_word_count(strings))"
   ]
  },
  {
   "cell_type": "code",
   "execution_count": 25,
   "metadata": {},
   "outputs": [
    {
     "name": "stdout",
     "output_type": "stream",
     "text": [
      "1100000\n",
      "CPU times: user 16.8 s, sys: 9.99 s, total: 26.8 s\n",
      "Wall time: 22.1 s\n"
     ]
    }
   ],
   "source": [
    "%time print (concurrent_word_count(strings))"
   ]
  },
  {
   "cell_type": "code",
   "execution_count": 26,
   "metadata": {},
   "outputs": [
    {
     "name": "stdout",
     "output_type": "stream",
     "text": [
      "1100000\n",
      "CPU times: user 47.5 ms, sys: 22.3 ms, total: 69.8 ms\n",
      "Wall time: 182 ms\n"
     ]
    }
   ],
   "source": [
    "%time print (parallel_word_count(strings))"
   ]
  },
  {
   "cell_type": "markdown",
   "metadata": {},
   "source": [
    "### Pop Quiz\n",
    "\n",
    "<details>\n",
    "<summary>Q: Between sequential, parallel, and concurrent, which one is the fastest? Which one is the slowest? Why?</summary>\n",
    "1. Parallel is the fastest. Sequential is second.  Concurrent is the slowest.\n",
    "<br/>\n",
    "2. Concurrent and parallel have higher overhead compared to sequential. This is not recovered for small problems.\n",
    "<br/>\n",
    "3. Use concurrent and parallel processes if and only if processing takes longer than the setup overhead.\n",
    "<br/>\n",
    "4. Concurrent will rarely win CPU-bound problems, but will nearly always win IO-bound problems. Parallel is just the opposite.\n",
    "</details>\n"
   ]
  },
  {
   "cell_type": "markdown",
   "metadata": {},
   "source": [
    "### Cleaning Up Zombie Python Processes\n",
    "\n",
    "Here is how to kill all the processes that `multiprocessing` will bring up in the background.\n",
    "\n",
    "```sh\n",
    "ps ux | grep ipykernel | grep -v grep | awk '{print $2}' | xargs kill -9\n",
    "```"
   ]
  },
  {
   "cell_type": "markdown",
   "metadata": {},
   "source": [
    "##  IO-Bound Problem\n",
    "Here's an ideal use-case for threading"
   ]
  },
  {
   "cell_type": "code",
   "execution_count": 27,
   "metadata": {
    "collapsed": true
   },
   "outputs": [],
   "source": [
    "import threading\n",
    "from queue import Queue\n",
    "import requests\n",
    "import bs4\n",
    "import time\n",
    "\n",
    "print_lock = threading.Lock()\n",
    "\n",
    "def get_url(current_url):\n",
    "    with print_lock:\n",
    "        print(\"\\nStarting thread {}\".format(threading.current_thread().name))\n",
    "    res = requests.get(current_url)\n",
    "    res.raise_for_status()\n",
    "\n",
    "    current_page = bs4.BeautifulSoup(res.text,\"html.parser\")\n",
    "    current_title = current_page.select('title')[0].getText()\n",
    "\n",
    "    with print_lock:\n",
    "        print(\"{}\\n\".format(threading.current_thread().name))\n",
    "        print(\"{}\\n\".format(current_url))\n",
    "        print(\"{}\\n\".format(current_title))\n",
    "        print(\"\\nFinished fetching : {}\".format(current_url))\n",
    "\n",
    "def process_queue():\n",
    "    while True:\n",
    "        current_url = url_queue.get()\n",
    "        get_url(current_url)\n",
    "        url_queue.task_done()"
   ]
  },
  {
   "cell_type": "code",
   "execution_count": 28,
   "metadata": {},
   "outputs": [
    {
     "name": "stdout",
     "output_type": "stream",
     "text": [
      "\n",
      "Starting thread Thread-300016\n",
      "\n",
      "Starting thread Thread-300017\n",
      "\n",
      "Starting thread Thread-300019\n",
      "\n",
      "Starting thread Thread-300020\n",
      "\n",
      "Starting thread Thread-300018\n",
      "Thread-300019\n",
      "\n",
      "https://www.google.com\n",
      "\n",
      "Google\n",
      "\n",
      "\n",
      "Finished fetching : https://www.google.com\n",
      "Thread-300016\n",
      "\n",
      "https://www.google.com\n",
      "\n",
      "Google\n",
      "\n",
      "\n",
      "Finished fetching : https://www.google.com\n",
      "Thread-300020\n",
      "\n",
      "https://www.google.com\n",
      "\n",
      "Google\n",
      "\n",
      "\n",
      "Finished fetching : https://www.google.com\n",
      "Thread-300018\n",
      "\n",
      "https://www.google.com\n",
      "\n",
      "Google\n",
      "\n",
      "\n",
      "Finished fetching : https://www.google.com\n",
      "Thread-300017\n",
      "\n",
      "https://www.google.com\n",
      "\n",
      "[<_MainThread(MainThread, started 140735287332864)>, <Thread(Thread-2, started daemon 123145308631040)>, <Heartbeat(Thread-3, started daemon 123145313886208)>, <HistorySavingThread(IPythonHistorySavingThread, started 123145320214528)>, <ParentPollerUnix(Thread-1, started daemon 123145325469696)>, <Thread(Thread-300013, started daemon 123145330724864)>, <Thread(Thread-300014, started daemon 123145335980032)>, <Thread(Thread-300015, started daemon 123145341235200)>, <Thread(Thread-300016, started daemon 123145346490368)>, <Thread(Thread-300017, started daemon 123145351745536)>, <Thread(Thread-300018, started daemon 123145357000704)>, <Thread(Thread-300019, started daemon 123145362255872)>, <Thread(Thread-300020, started daemon 123145367511040)>]Google\n",
      "\n",
      "\n",
      "Execution time = 0.74685\n",
      "Finished fetching : https://www.google.com\n",
      "\n"
     ]
    }
   ],
   "source": [
    "# run the multi-threading example\n",
    "\n",
    "url_queue = Queue()\n",
    "url_list = [\"https://www.google.com\"]*5\n",
    "\n",
    "for i in range(5):\n",
    "    t = threading.Thread(target=process_queue)\n",
    "    t.daemon = True\n",
    "    t.start()\n",
    "\n",
    "start = time.time()\n",
    "\n",
    "for current_url in url_list:\n",
    "    url_queue.put(current_url)\n",
    "url_queue.join()\n",
    "\n",
    "print(threading.enumerate())\n",
    "print(\"Execution time = {0:.5f}\".format(time.time() - start))"
   ]
  },
  {
   "cell_type": "markdown",
   "metadata": {},
   "source": [
    "## CPU-Bound Problem\n",
    "Here's an ideal use-case for multi-processing"
   ]
  },
  {
   "cell_type": "markdown",
   "metadata": {},
   "source": [
    "> The sieve of Eratosthenes is a simple, ancient algorithm for finding all prime numbers up to any given limit.\n",
    "\n",
    "It does so by iteratively marking as composite (i.e., not prime) the multiples of each prime, starting with the first prime number, 2. The multiples of a given prime are generated as a sequence of numbers starting from that prime, with constant difference between them that is equal to that prime. This is the sieve's key distinction from using trial division to sequentially test each candidate number for divisibility by each prime.\n",
    "\n",
    "\n",
    "To find all the prime numbers less than or equal to a given integer n by Eratosthenes' method:\n",
    "\n",
    "- Create a list of consecutive integers from 2 through n: (2, 3, 4, ..., n).\n",
    "- Initially, let p equal 2, the smallest prime number.\n",
    "- Enumerate the multiples of p by counting to n from 2p in increments of p, and mark them in the list (these will be 2p, 3p, 4p, ...; the p itself should not be marked).\n",
    "- Find the first number greater than p in the list that is not marked. If there was no such number, stop. Otherwise, let p now equal this new number (which is the next prime), and repeat from step 3.\n",
    "- When the algorithm terminates, the numbers remaining not marked in the list are all the primes below n."
   ]
  },
  {
   "cell_type": "code",
   "execution_count": 30,
   "metadata": {},
   "outputs": [
    {
     "name": "stdout",
     "output_type": "stream",
     "text": [
      "1000\n"
     ]
    }
   ],
   "source": [
    "N = 10**3\n",
    "print(N)"
   ]
  },
  {
   "cell_type": "code",
   "execution_count": 40,
   "metadata": {
    "collapsed": true
   },
   "outputs": [],
   "source": [
    "def primes_sieve(limit):\n",
    "    a = [True] * limit                          # Initialize the primality list\n",
    "    a[0] = a[1] = False\n",
    "\n",
    "    for (i, isprime) in enumerate(a):\n",
    "        if isprime:\n",
    "            yield i\n",
    "            for n in range(i*i, limit, i):     # Mark factors non-prime\n",
    "                a[n] = False"
   ]
  },
  {
   "cell_type": "code",
   "execution_count": 41,
   "metadata": {},
   "outputs": [
    {
     "data": {
      "text/plain": [
       "<generator object primes_sieve at 0x108527728>"
      ]
     },
     "execution_count": 41,
     "metadata": {},
     "output_type": "execute_result"
    }
   ],
   "source": [
    "primes_sieve(100)"
   ]
  },
  {
   "cell_type": "code",
   "execution_count": 42,
   "metadata": {},
   "outputs": [
    {
     "data": {
      "text/plain": [
       "[2,\n",
       " 3,\n",
       " 5,\n",
       " 7,\n",
       " 11,\n",
       " 13,\n",
       " 17,\n",
       " 19,\n",
       " 23,\n",
       " 29,\n",
       " 31,\n",
       " 37,\n",
       " 41,\n",
       " 43,\n",
       " 47,\n",
       " 53,\n",
       " 59,\n",
       " 61,\n",
       " 67,\n",
       " 71,\n",
       " 73,\n",
       " 79,\n",
       " 83,\n",
       " 89,\n",
       " 97]"
      ]
     },
     "execution_count": 42,
     "metadata": {},
     "output_type": "execute_result"
    }
   ],
   "source": [
    "prime_list = list(primes_sieve(100))\n",
    "prime_list"
   ]
  },
  {
   "cell_type": "markdown",
   "metadata": {},
   "source": [
    "Let's compare our generator to a function with a return statement"
   ]
  },
  {
   "cell_type": "code",
   "execution_count": 23,
   "metadata": {
    "collapsed": true
   },
   "outputs": [],
   "source": [
    "def is_prime(num):\n",
    "    if num <= 1:\n",
    "        return False\n",
    "    elif num <= 3:\n",
    "        return True\n",
    "    elif num%2 == 0 or num%3 == 0:\n",
    "        return False\n",
    "    i = 5\n",
    "    while i*i <= num:\n",
    "        if num%i == 0 or num%(i+2) == 0:\n",
    "            return False\n",
    "        i += 6\n",
    "    return True"
   ]
  },
  {
   "cell_type": "code",
   "execution_count": 24,
   "metadata": {},
   "outputs": [
    {
     "data": {
      "text/plain": [
       "[False,\n",
       " False,\n",
       " True,\n",
       " True,\n",
       " False,\n",
       " True,\n",
       " False,\n",
       " True,\n",
       " False,\n",
       " False,\n",
       " False,\n",
       " True,\n",
       " False,\n",
       " True,\n",
       " False,\n",
       " False,\n",
       " False,\n",
       " True,\n",
       " False,\n",
       " True,\n",
       " False,\n",
       " False,\n",
       " False,\n",
       " True,\n",
       " False,\n",
       " False,\n",
       " False,\n",
       " False,\n",
       " False,\n",
       " True,\n",
       " False,\n",
       " True,\n",
       " False,\n",
       " False,\n",
       " False,\n",
       " False,\n",
       " False,\n",
       " True,\n",
       " False,\n",
       " False,\n",
       " False,\n",
       " True,\n",
       " False,\n",
       " True,\n",
       " False,\n",
       " False,\n",
       " False,\n",
       " True,\n",
       " False,\n",
       " False,\n",
       " False,\n",
       " False,\n",
       " False,\n",
       " True,\n",
       " False,\n",
       " False,\n",
       " False,\n",
       " False,\n",
       " False,\n",
       " True,\n",
       " False,\n",
       " True,\n",
       " False,\n",
       " False,\n",
       " False,\n",
       " False,\n",
       " False,\n",
       " True,\n",
       " False,\n",
       " False,\n",
       " False,\n",
       " True,\n",
       " False,\n",
       " True,\n",
       " False,\n",
       " False,\n",
       " False,\n",
       " False,\n",
       " False,\n",
       " True,\n",
       " False,\n",
       " False,\n",
       " False,\n",
       " True,\n",
       " False,\n",
       " False,\n",
       " False,\n",
       " False,\n",
       " False,\n",
       " True,\n",
       " False,\n",
       " False,\n",
       " False,\n",
       " False,\n",
       " False,\n",
       " False,\n",
       " False,\n",
       " True,\n",
       " False,\n",
       " False]"
      ]
     },
     "execution_count": 24,
     "metadata": {},
     "output_type": "execute_result"
    }
   ],
   "source": [
    "is_prime_list = [is_prime(num) for num in range(100)]\n",
    "is_prime_list"
   ]
  },
  {
   "cell_type": "code",
   "execution_count": 26,
   "metadata": {},
   "outputs": [
    {
     "data": {
      "text/html": [
       "<div>\n",
       "<style>\n",
       "    .dataframe thead tr:only-child th {\n",
       "        text-align: right;\n",
       "    }\n",
       "\n",
       "    .dataframe thead th {\n",
       "        text-align: left;\n",
       "    }\n",
       "\n",
       "    .dataframe tbody tr th {\n",
       "        vertical-align: top;\n",
       "    }\n",
       "</style>\n",
       "<table border=\"1\" class=\"dataframe\">\n",
       "  <thead>\n",
       "    <tr style=\"text-align: right;\">\n",
       "      <th></th>\n",
       "      <th>is_prime</th>\n",
       "    </tr>\n",
       "  </thead>\n",
       "  <tbody>\n",
       "    <tr>\n",
       "      <th>2</th>\n",
       "      <td>True</td>\n",
       "    </tr>\n",
       "    <tr>\n",
       "      <th>3</th>\n",
       "      <td>True</td>\n",
       "    </tr>\n",
       "    <tr>\n",
       "      <th>5</th>\n",
       "      <td>True</td>\n",
       "    </tr>\n",
       "    <tr>\n",
       "      <th>7</th>\n",
       "      <td>True</td>\n",
       "    </tr>\n",
       "    <tr>\n",
       "      <th>11</th>\n",
       "      <td>True</td>\n",
       "    </tr>\n",
       "    <tr>\n",
       "      <th>13</th>\n",
       "      <td>True</td>\n",
       "    </tr>\n",
       "    <tr>\n",
       "      <th>17</th>\n",
       "      <td>True</td>\n",
       "    </tr>\n",
       "    <tr>\n",
       "      <th>19</th>\n",
       "      <td>True</td>\n",
       "    </tr>\n",
       "    <tr>\n",
       "      <th>23</th>\n",
       "      <td>True</td>\n",
       "    </tr>\n",
       "    <tr>\n",
       "      <th>29</th>\n",
       "      <td>True</td>\n",
       "    </tr>\n",
       "    <tr>\n",
       "      <th>31</th>\n",
       "      <td>True</td>\n",
       "    </tr>\n",
       "    <tr>\n",
       "      <th>37</th>\n",
       "      <td>True</td>\n",
       "    </tr>\n",
       "    <tr>\n",
       "      <th>41</th>\n",
       "      <td>True</td>\n",
       "    </tr>\n",
       "    <tr>\n",
       "      <th>43</th>\n",
       "      <td>True</td>\n",
       "    </tr>\n",
       "    <tr>\n",
       "      <th>47</th>\n",
       "      <td>True</td>\n",
       "    </tr>\n",
       "    <tr>\n",
       "      <th>53</th>\n",
       "      <td>True</td>\n",
       "    </tr>\n",
       "    <tr>\n",
       "      <th>59</th>\n",
       "      <td>True</td>\n",
       "    </tr>\n",
       "    <tr>\n",
       "      <th>61</th>\n",
       "      <td>True</td>\n",
       "    </tr>\n",
       "    <tr>\n",
       "      <th>67</th>\n",
       "      <td>True</td>\n",
       "    </tr>\n",
       "    <tr>\n",
       "      <th>71</th>\n",
       "      <td>True</td>\n",
       "    </tr>\n",
       "    <tr>\n",
       "      <th>73</th>\n",
       "      <td>True</td>\n",
       "    </tr>\n",
       "    <tr>\n",
       "      <th>79</th>\n",
       "      <td>True</td>\n",
       "    </tr>\n",
       "    <tr>\n",
       "      <th>83</th>\n",
       "      <td>True</td>\n",
       "    </tr>\n",
       "    <tr>\n",
       "      <th>89</th>\n",
       "      <td>True</td>\n",
       "    </tr>\n",
       "    <tr>\n",
       "      <th>97</th>\n",
       "      <td>True</td>\n",
       "    </tr>\n",
       "  </tbody>\n",
       "</table>\n",
       "</div>"
      ],
      "text/plain": [
       "    is_prime\n",
       "2       True\n",
       "3       True\n",
       "5       True\n",
       "7       True\n",
       "11      True\n",
       "13      True\n",
       "17      True\n",
       "19      True\n",
       "23      True\n",
       "29      True\n",
       "31      True\n",
       "37      True\n",
       "41      True\n",
       "43      True\n",
       "47      True\n",
       "53      True\n",
       "59      True\n",
       "61      True\n",
       "67      True\n",
       "71      True\n",
       "73      True\n",
       "79      True\n",
       "83      True\n",
       "89      True\n",
       "97      True"
      ]
     },
     "execution_count": 26,
     "metadata": {},
     "output_type": "execute_result"
    }
   ],
   "source": [
    "import numpy as np\n",
    "import pandas as pd\n",
    "prime_df = pd.DataFrame([is_prime(num) for num in range(100)], columns=['is_prime'])\n",
    "prime_df[prime_df.is_prime == True]"
   ]
  },
  {
   "cell_type": "code",
   "execution_count": 27,
   "metadata": {},
   "outputs": [
    {
     "name": "stdout",
     "output_type": "stream",
     "text": [
      "508 µs ± 17.6 µs per loop (mean ± std. dev. of 7 runs, 1000 loops each)\n"
     ]
    }
   ],
   "source": [
    "%%timeit\n",
    "[is_prime(num) for num in range(N)]"
   ]
  },
  {
   "cell_type": "code",
   "execution_count": null,
   "metadata": {},
   "outputs": [
    {
     "name": "stdout",
     "output_type": "stream",
     "text": [
      "352 ns ± 14.4 ns per loop (mean ± std. dev. of 7 runs, 1000000 loops each)\n"
     ]
    }
   ],
   "source": [
    "%%timeit\n",
    "primes_sieve(N)"
   ]
  },
  {
   "cell_type": "code",
   "execution_count": null,
   "metadata": {
    "collapsed": true
   },
   "outputs": [],
   "source": [
    "%%timeit\n",
    "prime_list = list(primes_sieve(N))"
   ]
  },
  {
   "cell_type": "code",
   "execution_count": null,
   "metadata": {
    "collapsed": true
   },
   "outputs": [],
   "source": [
    "print(prime_list[:10])\n",
    "print(is_prime_list[:10])"
   ]
  },
  {
   "cell_type": "markdown",
   "metadata": {},
   "source": [
    "So, the primes sieve generator is WAY faster than a similar funciton with a return statement. But what about if we want to do something that requires all the prime numbesr to be on hand? (For example, taking the sum of primes). How can multi-processing help?"
   ]
  },
  {
   "cell_type": "code",
   "execution_count": null,
   "metadata": {
    "collapsed": true
   },
   "outputs": [],
   "source": [
    "from multiprocessing import Pool\n",
    "import time\n",
    "\n",
    "def sum_prime(num):\n",
    "    \n",
    "    sum_of_primes = 0\n",
    "\n",
    "    ix = 2\n",
    "\n",
    "    while ix <= num:\n",
    "        if is_prime(ix):\n",
    "            sum_of_primes += ix\n",
    "        ix += 1\n",
    "\n",
    "    return sum_of_primes\n",
    "\n",
    "def is_prime(num):\n",
    "    if num <= 1:\n",
    "        return False\n",
    "    elif num <= 3:\n",
    "        return True\n",
    "    elif num%2 == 0 or num%3 == 0:\n",
    "        return False\n",
    "    i = 5\n",
    "    while i*i <= num:\n",
    "        if num%i == 0 or num%(i+2) == 0:\n",
    "            return False\n",
    "        i += 6\n",
    "    return True\n",
    "\n",
    "if __name__ == '__main__':\n",
    "    start = time.time()\n",
    "    with Pool(4) as p:\n",
    "        print(p.map(sum_prime, [1000000, 2000000, 3000000]))\n",
    "    print(\"Time taken = {0:.5f}\".format(time.time() - start))"
   ]
  },
  {
   "cell_type": "markdown",
   "metadata": {},
   "source": [
    "## Notes below"
   ]
  },
  {
   "cell_type": "code",
   "execution_count": null,
   "metadata": {
    "collapsed": true
   },
   "outputs": [],
   "source": [
    "def chunk_it(seq, num):\n",
    "    avg = len(seq) / float(num)\n",
    "    out = []\n",
    "    last = 0\n",
    "    while last < len(seq):\n",
    "        out.append(seq[int(last):int(last + avg)])\n",
    "        last += avg\n",
    "    return out\n",
    "\n",
    "\n",
    "chunk_it(list(range(12)), 4)"
   ]
  },
  {
   "cell_type": "code",
   "execution_count": null,
   "metadata": {
    "collapsed": true
   },
   "outputs": [],
   "source": []
  }
 ],
 "metadata": {
  "kernelspec": {
   "display_name": "Python 3",
   "language": "python",
   "name": "python3"
  },
  "language_info": {
   "codemirror_mode": {
    "name": "ipython",
    "version": 3
   },
   "file_extension": ".py",
   "mimetype": "text/x-python",
   "name": "python",
   "nbconvert_exporter": "python",
   "pygments_lexer": "ipython3",
   "version": "3.6.1"
  }
 },
 "nbformat": 4,
 "nbformat_minor": 1
}
