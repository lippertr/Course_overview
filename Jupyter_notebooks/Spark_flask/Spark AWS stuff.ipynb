{
 "cells": [
  {
   "cell_type": "markdown",
   "metadata": {},
   "source": [
    "Connect to the cluster using SSH and open a PySpark shell on the cluster:\n",
    "\n",
    "ssh spark\n",
    "pyspark"
   ]
  },
  {
   "cell_type": "markdown",
   "metadata": {},
   "source": [
    "# Creating a pipeline to the spark UI\n",
    "\n",
    "ssh -NfL 18080:localhost:18080 spark\n",
    "\n",
    "open http://localhost:18080/\n",
    "\n"
   ]
  },
  {
   "cell_type": "raw",
   "metadata": {},
   "source": [
    "# Running a cluster through the command line\n",
    "\n",
    "bash <launch sh> <name of bucket> <identity file w/o .pem> <number of clusters>\n",
    "\n",
    "ex.\n",
    " bash /Users/jacobshomer/Desktop/Galvanize/dsi-spark-aws/scripts/launch_cluster.sh jakes-spark-bucket spark 6\n"
   ]
  },
  {
   "cell_type": "markdown",
   "metadata": {},
   "source": [
    "#to secure copy \n",
    "\n",
    "scp ~/Desktop/Galvanize/dsi-spark-aws/scripts/jupyspark-emr.sh hadoop@spark:/home/hadoop"
   ]
  },
  {
   "cell_type": "code",
   "execution_count": null,
   "metadata": {
    "collapsed": true
   },
   "outputs": [],
   "source": []
  }
 ],
 "metadata": {
  "kernelspec": {
   "display_name": "Python 3",
   "language": "python",
   "name": "python3"
  },
  "language_info": {
   "codemirror_mode": {
    "name": "ipython",
    "version": 3
   },
   "file_extension": ".py",
   "mimetype": "text/x-python",
   "name": "python",
   "nbconvert_exporter": "python",
   "pygments_lexer": "ipython3",
   "version": "3.6.1"
  }
 },
 "nbformat": 4,
 "nbformat_minor": 2
}
