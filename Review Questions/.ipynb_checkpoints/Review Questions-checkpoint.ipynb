{
 "cells": [
  {
   "cell_type": "markdown",
   "metadata": {},
   "source": [
    "# Question 1\n",
    "What is Bayes rule?  What does it relate?\n",
    "<br/>"
   ]
  },
  {
   "cell_type": "markdown",
   "metadata": {},
   "source": [
    "## Answer\n",
    "![bayes formula](dsi-power-bayesian/images/bayes_formula.png)\n",
    "Posterior probability = likelihood observation\n",
    "\n",
    "**Prior Probability**:\n",
    "- A PMF / PDF representing your initial beliefs about the parameter(s).  \n",
    "- The initial belief is less represented in the posterior as more data is incorporated\n",
    "\n",
    "**Likelihood**:\n",
    "- The probability of observing the data given the parameter(s)\n",
    "- i.e. What is the likelihood of 3 Heads in a row given the probability of heads is 0.7?\n",
    "\n",
    "**Posterior Probability**:\n",
    "- The product of prior and likelihood (Bayesian-update)\n",
    "- The posterior probability becomes the prior of the next Bayesian-update\n",
    "\n",
    "**Normalizing Constant**:\n",
    "- The probability of observing the data. \n",
    "- In Bayesian analysis, this term ensures the sum of all probabilities is 1\n",
    "\n",
    "<br/>\n",
    "<br/>\n",
    "<br/>"
   ]
  },
  {
   "cell_type": "markdown",
   "metadata": {},
   "source": [
    "# Question 2\n",
    "How many ways can I arrange n unique objects?  Formula? "
   ]
  },
  {
   "cell_type": "markdown",
   "metadata": {},
   "source": [
    "## Answer\n",
    "\n",
    "    n!\n",
    "<br/>"
   ]
  },
  {
   "cell_type": "markdown",
   "metadata": {},
   "source": [
    "# Question 3\n",
    "How many ways can I arrange k of n unique objects, where k < n?  What is this called? Formula?"
   ]
  },
  {
   "cell_type": "markdown",
   "metadata": {},
   "source": [
    "## Answer\n",
    "Permutation\n",
    "\n",
    "Permutations counts the number of ways subsets can be chosen when the order does matter\n",
    "$$\n",
    "\\frac{N!}{(N-k)!}\n",
    "$$\n",
    "\n",
    "#### How can we code this?\n",
    "\n",
    ">>> print([x for x in itertools.permutations('1234')])\n",
    "\n",
    ">>> [('1', '2', '3', '4'), ('1', '2', '4', '3'), ('1', '3', '2', '4') ... ]\n",
    "<br/>\n",
    "<br/>\n",
    "<br/>"
   ]
  },
  {
   "cell_type": "markdown",
   "metadata": {},
   "source": [
    "# Question 4 \n",
    "If order doesn't matter, how many ways can I pick n objects? What is this called? Formula?\n"
   ]
  },
  {
   "cell_type": "markdown",
   "metadata": {},
   "source": [
    "## Answer\n",
    "\n",
    "Combinations count the number of ways to choose things when order does not matter. \n",
    "The “number of combinations” problem – i.e., counting the number of all possible unordered collections of size K from a pool of N objects — is often referred to as the “N choose K” problem, and the solution to the problem is commonly notated as\n",
    "\n",
    "$$\n",
    "{N \\choose K}=\\frac{N!}{(N−K)!K!}\n",
    "$$\n",
    "#### How can we code this?\n",
    "Here’s an example of all the two character combinations that can be made from the letters A, B, and C:\n",
    "<br/>\n",
    "\n",
    ">>>from itertools import combinations\n",
    "<br/>\n",
    ">>>list(combinations(\"ABC\",2))\n",
    "\n",
    ">>>[('A', 'B'), ('A', 'C'), ('B', 'C')]\n",
    "<br/>\n",
    "<br/>\n",
    "\n"
   ]
  },
  {
   "cell_type": "markdown",
   "metadata": {},
   "source": [
    "# Question 5\n",
    "What distribution would you use in the following cases:  \n",
    "\n",
    "## Answers\n",
    "\n",
    "  #### What is the probability that the mean volume of 50 bottles is less than 500 ml?\n",
    "  \n",
    "      Normal\n",
    "   \n",
    "   \n",
    "  #### Deciding to go for a run or not.\n",
    "  \n",
    "      Bernoulli\n",
    "      \n",
    "      \n",
    "  #### Determining how many days pass before you finally decide to go for a run. \n",
    "      Exponential?\n",
    "      Geometric(the distribution of the number of bernoulli trials to get one success)\n",
    "      \n",
    "      \n",
    "  #### Determining how likely it is that you go for 10 runs in a month.\n",
    "  \n",
    "      Binomial\n",
    "     \n",
    "     \n",
    "  #### Calculating how much water falls into an open swimming pool during a rain storm.\n",
    "  \n",
    "      Uniform\n",
    "     \n",
    "     \n",
    "  #### Assuming you run at a 9 minute mile pace avg pace, determining how likely it is that you pass the 3 mile mark in a race in 25 minutes?  \n",
    "      \n",
    "      exponential(How many times between poisson events)\n",
    "<br/>\n",
    "<br/>"
   ]
  },
  {
   "cell_type": "markdown",
   "metadata": {},
   "source": [
    "# Question 6\n",
    "What is the central limit theorem? "
   ]
  },
  {
   "cell_type": "markdown",
   "metadata": {},
   "source": [
    "## Answer\n",
    " The central limit theorem (CLT) is a statistical theory that states that given a sufficiently large sample size from a population with a finite level of variance, the mean of all samples from the same population will be approximately equal to the mean of the population.\n",
    "\n",
    "The sampling distribution of the sample mean tends towards a normal distribution\n",
    "\n",
    "The distribution of the mean of a large number of independent, identically distributed variables will be approximately normal, regardless of the underlying distribution.\n",
    "\n",
    "* Sample mean will be normally distributed about the population mean.\n",
    "\n",
    "* Sample variances will be smaller. \n",
    "\n",
    "* Allows us to work with data easier\n",
    "\n",
    "\n",
    "\n",
    " <br/>\n",
    " <br/>\n",
    " <br/>"
   ]
  },
  {
   "cell_type": "markdown",
   "metadata": {},
   "source": [
    "# Question 7\n",
    "How would you go about implementing a bootstrap, and why would you do it?  "
   ]
  },
  {
   "cell_type": "markdown",
   "metadata": {},
   "source": [
    "## Answer\n",
    "I would use a bootstrap if I wanted a larger sample size but was unable to obtain more samples for whatever reasons. I am assuming that my sample is independent and identically distributed as well as being an accurate representation of the population. I would than create B number of 'new' samples(of the same size n) by sampling from the orignal sample with replacement. \n",
    "<br/>\n",
    "\n",
    "When else would we use bootstrap?\n",
    "    * to calculate the confidence interval around any statistic.\n",
    "    * gives degree of belief of estimates\n",
    "    * general use is to figure out the degree of belief in a statistic \n",
    "    * Used commonly to estimate the correlation coefficient\n",
    "    * This is particulary useful for which standard error isn't readily available"
   ]
  },
  {
   "cell_type": "markdown",
   "metadata": {},
   "source": [
    "# Question 8\n",
    "Conceptual - Studies of American health habits often show that urban dwellers have lower average body mass index (BMI)s and are less likely to be obese than people who live in other types of locations. A naive scientist would conclude that living in cities causes people to be thinner.\n",
    "Discuss at least two confounding variables and how you might change your sampling parameters to mitigate these effects.  "
   ]
  },
  {
   "cell_type": "markdown",
   "metadata": {},
   "source": [
    "## Answer\n",
    "Those living in cities could be more likely to take public transportation and/or walk to their work place. This, as well as a greater potential for many storied buildings, could increase general casual activity on the individual level. There could be an argument for a more varied socio economic background for those who live in cities, which could affect bmi. Urban areas also (I think) tend to have a large range of ages, with younger people having lower bmis where as other areas could have generally older more sedentary populations. (Rural flight) Cities are also have a much higher sample size so they are less easily skewed. It's possible that a town with a smaller population could have a few individuals with a very high bmi that affects the overall mean. Food options are more varied in cities.\n",
    "<br/>\n",
    "\n",
    "The sampling parameters could be changed by controlling the samples based on age, socio economic background, as well as career\n",
    "<br/>\n"
   ]
  },
  {
   "cell_type": "markdown",
   "metadata": {},
   "source": [
    "# Question 9\n",
    "I surveyed 200 people and looked at their average expenditure on coffee/tea by season. I found that the mean coffee expenditure in winter was greater than that in the summer, with a p-value of .02. Is this significant? Why or why not? What significance level would convince you?"
   ]
  },
  {
   "cell_type": "markdown",
   "metadata": {},
   "source": [
    "## Answer\n",
    "\n",
    "We can assume that the signifigance level is 0.05.  This is a candidate for a bonferroni correction. We would divide the p value by 6, because we're making 6 comparisons (4 seasons, choosing two). So we would want a p value of less than 0.008333333 in order for it to be significant. "
   ]
  },
  {
   "cell_type": "markdown",
   "metadata": {},
   "source": [
    "# Question 10\n",
    "What are the four factors that influence statistical power?"
   ]
  },
  {
   "cell_type": "markdown",
   "metadata": {},
   "source": [
    "## Answer\n",
    "#### Statistical Power: \n",
    "is the likelihood that we call something significant when there is something to be detected.\n",
    "Power equals 1 - the type two error.\n",
    "\n",
    "##### What are the things that affect statistical power?\n",
    "    * signifigance level\n",
    "    * |μ0−μ1| (the effect size)\n",
    "    * standard deviation\n",
    "    * sample size\n",
    "<br/>\n"
   ]
  },
  {
   "cell_type": "markdown",
   "metadata": {},
   "source": [
    "# Question 11\n",
    "Draw the distributions associated with a hypothesis test between two means.  Label the critical value, the Type I error, and Type II error.  Indicate on the diagram how you'd calculate the statistical power."
   ]
  },
  {
   "cell_type": "markdown",
   "metadata": {},
   "source": [
    "## Answer\n"
   ]
  },
  {
   "cell_type": "code",
   "execution_count": 8,
   "metadata": {},
   "outputs": [
    {
     "data": {
      "text/plain": [
       "<matplotlib.legend.Legend at 0x1162ad400>"
      ]
     },
     "execution_count": 8,
     "metadata": {},
     "output_type": "execute_result"
    },
    {
     "data": {
      "image/png": "[encoded data removed]",
      "text/plain": [
       "<matplotlib.figure.Figure at 0x11584cba8>"
      ]
     },
     "metadata": {},
     "output_type": "display_data"
    }
   ],
   "source": [
    "import numpy as np\n",
    "import scipy.stats as scs\n",
    "import matplotlib.pyplot as plt\n",
    "%matplotlib inline\n",
    "\n",
    "fig = plt.figure(figsize = (12, 8))\n",
    "ax = fig.add_subplot(111)\n",
    "x = np.linspace(20.85583, 20.1838842, 100)\n",
    "sample_pdf = scs.norm.pdf(x, 20.519 , 0.083994286670484794)\n",
    "plt.plot(x, sample_pdf, color = 'blue')\n",
    "null_pdf = scs.norm.pdf(x, 20.4, 0.083994286670484794)\n",
    "plt.plot(x, null_pdf, color = 'yellow')\n",
    "ax.axvline(20.519, alpha=.5, linestyle = '--')\n",
    "ax.axvline(20.4, alpha=.5, linestyle = '--')\n",
    "con_int = (20.4 + 1.96* (0.083994286670484794))\n",
    "con_int_more = (20.4 - 1.96*(0.083994286670484794))\n",
    "ax.axvline(con_int, alpha = .7, color = 'red', linestyle ='--' )\n",
    "ax.axvline(con_int_more, alpha = .7, color = 'red', linestyle ='--' )\n",
    "plt.legend(['Sample', 'Null'])"
   ]
  },
  {
   "cell_type": "markdown",
   "metadata": {},
   "source": [
    "The area under the curve to the left of our lower limit added to the the area under the curve to the right up the upper limit is our type I error. The area between the two limits is our type two error. Power is 1 minus out beta."
   ]
  },
  {
   "cell_type": "code",
   "execution_count": null,
   "metadata": {
    "collapsed": true
   },
   "outputs": [],
   "source": []
  }
 ],
 "metadata": {
  "kernelspec": {
   "display_name": "Python 3",
   "language": "python",
   "name": "python3"
  },
  "language_info": {
   "codemirror_mode": {
    "name": "ipython",
    "version": 3
   },
   "file_extension": ".py",
   "mimetype": "text/x-python",
   "name": "python",
   "nbconvert_exporter": "python",
   "pygments_lexer": "ipython3",
   "version": "3.6.1"
  }
 },
 "nbformat": 4,
 "nbformat_minor": 2
}
