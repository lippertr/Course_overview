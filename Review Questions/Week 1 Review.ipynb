{
 "cells": [
  {
   "cell_type": "markdown",
   "metadata": {},
   "source": [
    "# Week 1 Review Questions"
   ]
  },
  {
   "cell_type": "markdown",
   "metadata": {},
   "source": [
    "1. Compare and contrast functional and object oriented programming paradigms.  Then discuss the the 3 pillars of OOP and how they relate to Python."
   ]
  },
  {
   "cell_type": "markdown",
   "metadata": {},
   "source": [
    "Functional Programming Paradigm\n",
    "    \n",
    "\n",
    "OOP Paradigm\n",
    "    Embraces state(i.e. remembering) in the form of variables and objects.\n",
    "    Encapsulation, data and methods are bundled within class defintions\n",
    "        Python does not provide access control, but there are conventions to hide data ie. _x\n",
    "    Polymorphism, methods/operations of same name act differently and approproaitely on different object types\n",
    "        widely used in libraries\n",
    "        treated the same if they support the same interface\n",
    "        python employs 'duck-typing'\n",
    "        if an expected method is missing during execution, Python raises and AttributeError\n",
    "    Inheritance, organizing complex systems from general to specific, so that more=specific subclass inherit the general behavior of their super-class\n",
    "        multiple inheritance is alloowed\n",
    "        organized genera to specific\n",
    "        subclass can also overide super class methods of the same name\n",
    "        experience benefits of polymorphism\n",
    "        permits code reuse and rapid development\n",
    "        \n",
    "    \n",
    "    \n",
    "    In programming, there are typically two dominant paradigms to structure code: Functional and Object Oriented. Functional programming eschews mutable state, i.e. variables, and passes information/logic through the input and output of functions. OO programming on the other hand embraces state (i.e. remembering) in the form of variables and objects. For example, if I wanted to write a program that calculates some mathematical results, I might pass intermediate values from one function to the next through an internal variable."
   ]
  },
  {
   "cell_type": "markdown",
   "metadata": {},
   "source": [
    "2. What are some distinguishing characteristics of the Python programming\n",
    "language?  \n",
    "    Python is an interpeted language, does not need to be compiled. Compiled it faster\n",
    "    It has a lot of libraries to access\n",
    "    uses duck-typing\n",
    "    OOP\n",
    "    Open Source \n",
    "    Indentation\n",
    "    Imperative language, you tell it what you do. unlike SQL which is declarative and you tell it what you want\n",
    "    Most mature machine learning libraries \n",
    "    \n",
    "    Attributes have .\n",
    "    methods have ()\n",
    "    "
   ]
  },
  {
   "cell_type": "markdown",
   "metadata": {},
   "source": [
    "3. Differences between python 2 and python 3\n",
    "    print statement\n",
    "    iteritems went to items\n",
    "    izip changed to zip\n",
    "    range, is a generator\n",
    "    python3 will return a float if your answer is a float, in python 2 you have to ask for it\n",
    "    new generators, don't need to declare them\n",
    "    Developed to make python more consistent \n",
    "    \n",
    "    "
   ]
  },
  {
   "cell_type": "markdown",
   "metadata": {},
   "source": [
    "4. List major data structures in Python.  Which data structure(s) would you use to\n",
    "in each of the following situations, and why:\n",
    "    list(mutable), tuple(immutable, can contain mutable info), set(mutable, has to contain immutable info), dict(mutable)\n",
    "    \n",
    "  * Unchanging sales records\n",
    "        tuple\n",
    "  * A customer database where changing information, such as address, email,\n",
    "  and purchases are associated with a given customer name.\n",
    "        dict, values as lists \n",
    "  * Driving waypoint locations between arbitrary points A and B.\n",
    "       list of tuples\n",
    "  * The unique words used in a text corpus.\n",
    "        set\n",
    "  * A search engine that returns results quickly for a given search term.\n",
    "      dict "
   ]
  },
  {
   "cell_type": "markdown",
   "metadata": {},
   "source": [
    "5. Write a one line list comprehension to perform the following matrix\n",
    "multiplication (A dot product B).  Describe how it works. How would you check\n",
    "it with NumPy?\n",
    "```python\n",
    "    A = [ [ 2, 4], [ 1, 7], [-1, 8] ]\n",
    "\n",
    "    B = [ [3, 2, -5, 6],  [1, -3, 4, 8] ]\n",
    " \n",
    " Atranspose times B \n",
    " zip, takes the first element from each list inside of it as a unit, returns a list of list. tuple unpacking\n",
    " zip(B) = [ [3, 1], [2, -3], [-5, 4], [6, 8]\n",
    " [sum9[A[i] * B[i] for i in range(len(A))]\n",
    " \n",
    " \n",
    " \n",
    " Check it with numpy\n",
    " A = np.array(A)\n",
    " B = np.array(B)\n",
    " A.dot(B)"
   ]
  },
  {
   "cell_type": "code",
   "execution_count": null,
   "metadata": {
    "collapsed": true
   },
   "outputs": [],
   "source": [
    "6. Estimate the run-time complexity (O(N) notation) of the following code:\n",
    "  ```python\n",
    "O(N) explains what happens to a function as x gets really big. \n",
    "    we want to get that growth as low as we can so that were not computing huge numbers\n",
    "    avoiding functions that grow quickly \n",
    "    for the first for loop well hace to cycle through x items, circle through k items in for loop. \n",
    "    so it will be very ineffcient. it will grow at a rate of (N)(K). abour N^2\n",
    "    \n",
    "  def find_duplicates(l1, l2):\n",
    "    '''\n",
    "    searches through lists 1 and 2 and eliminates duplicate entries from list 2\n",
    "    '''\n",
    "    for item1 in l1:\n",
    "      for item2 in l2:\n",
    "        if item2 == item1:\n",
    "          # removes item from list\n",
    "          l2.remove(item2)\n",
    "    return l1, l2          \n",
    "  ```\n",
    "  Write another function with the same functionality that works more efficiently. Use timeit to see how well you can do!\n",
    "\n",
    "    for item1 in l1:\n",
    "        try\n",
    "            l2.remove(item1)\n",
    "        except:\n",
    "                continue\n",
    "    return l1, l2\n",
    "\n",
    "Could use sets. take a set of each of them and then a set difference. \n",
    "Why are sets faster? They are hashed. Single operation\n",
    "rather than looping through all of the items on a list \n",
    "If you can do it as a set, do it as a set.\n",
    "Try and avoid try/except\n",
    "\n",
    "\n",
    "  (Hint: you could use something like\n",
    "  ```np.random.randint(0, 100, 50)```\n",
    "  to create random lists to practice with)"
   ]
  },
  {
   "cell_type": "code",
   "execution_count": null,
   "metadata": {
    "collapsed": true
   },
   "outputs": [],
   "source": [
    "7. Use datatable 'customers' (example rows below), write a SQL query to....\n",
    "\n",
    "| cust_id | cust_name | current_city | hometown |\n",
    "|:----------:|:------------:|:----------:|:-----------:|\n",
    "| 1 | Amanda | Atlanta | Raleigh |\n",
    "| 2 | Brittany | Denver | New York |\n",
    "| 3 | Charles | Paris | Raleigh |\n",
    "| 4 | David | San Diego | Los Angeles |\n",
    "| 5 | Elizabeth | Atlanta | London |\n",
    "| 6 | Greg | Denver | Atlanta |\n",
    "| 7 | Maria | Raleigh | New York |\n",
    "| 8 | Sarah | New York | Raleigh |\n",
    "| 9 | Thomas | Atlanta | Raleigh |\n",
    "\n",
    "  **Assume that everyone has moved**\n",
    "\n",
    "  A) Return the city with the highest population growth. (Highest net of people who currently live there minus people who used to live there)\n",
    "        Use Self Joins\n",
    "  B) Return pairs of \"friends\" (can be two columns or a tuple) that have both the same hometown and current city. Remove duplicates!"
   ]
  }
 ],
 "metadata": {
  "kernelspec": {
   "display_name": "Python 3",
   "language": "python",
   "name": "python3"
  },
  "language_info": {
   "codemirror_mode": {
    "name": "ipython",
    "version": 3
   },
   "file_extension": ".py",
   "mimetype": "text/x-python",
   "name": "python",
   "nbconvert_exporter": "python",
   "pygments_lexer": "ipython3",
   "version": "3.6.1"
  }
 },
 "nbformat": 4,
 "nbformat_minor": 2
}
